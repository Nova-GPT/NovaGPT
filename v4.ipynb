{
 "cells": [
  {
   "cell_type": "code",
   "execution_count": 1,
   "id": "35f5660e",
   "metadata": {},
   "outputs": [],
   "source": [
    "%load_ext autoreload\n",
    "%autoreload 2\n",
    "import os\n",
    "# os.environ[\"PYTORCH_CUDA_ALLOC_CONF\"] = \"expandable_segments:True\"\n"
   ]
  },
  {
   "cell_type": "code",
   "execution_count": 2,
   "id": "7d4715b7",
   "metadata": {},
   "outputs": [],
   "source": [
    "# !pip3 install torch torchvision torchaudio --index-url https://download.pytorch.org/whl/cu118\n",
    "# !pip3 install bitsandbytes transformers livelossplot matplotlib tqdm scikit-learn\n",
    "# !pip3 install mixture-of-experts pydantic"
   ]
  },
  {
   "cell_type": "code",
   "execution_count": 3,
   "id": "068d1757",
   "metadata": {},
   "outputs": [],
   "source": [
    "import sys\n",
    "sys.path.append('/mnt/c/Users/Arush Bansal/OneDrive - IIT Delhi/Desktop/arushGPT')\n"
   ]
  },
  {
   "cell_type": "code",
   "execution_count": null,
   "id": "4f1e2775",
   "metadata": {},
   "outputs": [],
   "source": []
  },
  {
   "cell_type": "code",
   "execution_count": 4,
   "id": "b1833966",
   "metadata": {},
   "outputs": [
    {
     "name": "stderr",
     "output_type": "stream",
     "text": [
      "c:\\Python312\\Lib\\site-packages\\tqdm\\auto.py:21: TqdmWarning: IProgress not found. Please update jupyter and ipywidgets. See https://ipywidgets.readthedocs.io/en/stable/user_install.html\n",
      "  from .autonotebook import tqdm as notebook_tqdm\n"
     ]
    },
    {
     "data": {
      "text/plain": [
       "<torch._C.Generator at 0x1e371554a70>"
      ]
     },
     "execution_count": 4,
     "metadata": {},
     "output_type": "execute_result"
    }
   ],
   "source": [
    "# from layers.RegexTokenizer import RegexTokenizer\n",
    "import torch\n",
    "from torch import nn\n",
    "from torch.nn import functional as F\n",
    "from torch.amp import autocast, GradScaler\n",
    "import bitsandbytes as bnb\n",
    "\n",
    "import time\n",
    "from transformers import AutoTokenizer\n",
    "\n",
    "\n",
    "from livelossplot import PlotLosses\n",
    "\n",
    "from utils import ModelSpecs, TrainingData\n",
    "from layers.Block import Block\n",
    "# from layers.MLA_Block import Block\n",
    "# from layers.WGQA_Block import Block\n",
    "torch.manual_seed(1337)"
   ]
  },
  {
   "cell_type": "code",
   "execution_count": 5,
   "id": "5830e9b0",
   "metadata": {},
   "outputs": [
    {
     "data": {
      "text/plain": [
       "'2.7.1+cu118'"
      ]
     },
     "execution_count": 5,
     "metadata": {},
     "output_type": "execute_result"
    }
   ],
   "source": [
    "torch.__version__"
   ]
  },
  {
   "cell_type": "code",
   "execution_count": 6,
   "id": "de50a3b8",
   "metadata": {},
   "outputs": [],
   "source": [
    "tokenizer = AutoTokenizer.from_pretrained(\"gpt2\")\n",
    "# tokenizer = AutoTokenizer.from_pretrained(\"microsoft/phi-3.5-mini-instruct\")\n",
    "# tokenizer = AutoTokenizer.from_pretrained(\"TinyLlama/TinyLlama-1.1B-Chat-v1.0\")\n",
    "stories = TrainingData.TinyStories()"
   ]
  },
  {
   "cell_type": "code",
   "execution_count": null,
   "id": "9195fa0e",
   "metadata": {},
   "outputs": [
    {
     "name": "stdout",
     "output_type": "stream",
     "text": [
      "Running on Cuda device.\n"
     ]
    }
   ],
   "source": [
    "# hyperparameters\n",
    "modelSpecs = ModelSpecs.create('mid', VOCAB_SIZE=tokenizer.vocab_size)\n",
    "# BATCH_SIZE = 38 # how many independent sequences will we process in parallel?\n",
    "# BATCH_SIZE = 28 # how many independent sequences will we process in parallel?\n",
    "BATCH_SIZE = 2 # how many independent sequences will we process in parallel?\n",
    "MAX_ITERS = 2000\n",
    "LEARNING_RATE = 3e-4\n",
    "EVAL_INTERVALS = 100\n",
    "# EVAL_ITERS = 200\n",
    "EVAL_ITERS = 50\n",
    "TRAIN_TEST_SPLIT = 0.9\n",
    "# device = 'cpu'\n",
    "device = 'cuda' if torch.cuda.is_available() else 'cpu'\n",
    "print(f\"Running on {device.capitalize()} device.\")\n"
   ]
  },
  {
   "cell_type": "code",
   "execution_count": 8,
   "id": "09b4badb",
   "metadata": {},
   "outputs": [
    {
     "name": "stdout",
     "output_type": "stream",
     "text": [
      "0.730612 M\n"
     ]
    }
   ],
   "source": [
    "i = 8\n",
    "text = stories[int(10**6 * 0.730612 * i):int(10**6 * 0.730612 *(i+1) )]\n",
    "# text = TrainingData.TinyStories()[:int(10**6 * 0.730612 * 20 * 5)]\n",
    "print(len(text)/10**6,\"M\")\n"
   ]
  },
  {
   "cell_type": "code",
   "execution_count": 9,
   "id": "9ba71be4",
   "metadata": {},
   "outputs": [
    {
     "name": "stderr",
     "output_type": "stream",
     "text": [
      "Token indices sequence length is longer than the specified maximum sequence length for this model (184703 > 1024). Running this sequence through the model will result in indexing errors\n"
     ]
    },
    {
     "name": "stdout",
     "output_type": "stream",
     "text": [
      "0.184703 M\n"
     ]
    }
   ],
   "source": [
    "\n",
    "data = torch.tensor(tokenizer.encode(text))\n",
    "\n",
    "n = int(TRAIN_TEST_SPLIT * len(data))\n",
    "print(len(data)/10**6,\"M\")\n",
    "\n",
    "train_data = data[:n]\n",
    "val_data = data[n:]\n"
   ]
  },
  {
   "cell_type": "code",
   "execution_count": 10,
   "id": "209488c0",
   "metadata": {},
   "outputs": [],
   "source": [
    "def get_batch(split):\n",
    "    # generate a small batch of data of inputs x and targets y\n",
    "    data = train_data if split == 'train' else val_data\n",
    "    ix = torch.randint(len(data) - modelSpecs.BLOCK_SIZE, (BATCH_SIZE,))\n",
    "    x = torch.stack([data[i:i+modelSpecs.BLOCK_SIZE] for i in ix])\n",
    "    y = torch.stack([data[i+1:i+modelSpecs.BLOCK_SIZE+1] for i in ix])\n",
    "    x, y = x.to(device), y.to(device)\n",
    "    return x, y"
   ]
  },
  {
   "cell_type": "code",
   "execution_count": 11,
   "id": "b45497b1",
   "metadata": {},
   "outputs": [],
   "source": [
    "class GPTLanguageModel(nn.Module):\n",
    "\n",
    "    def __init__(self):\n",
    "        super().__init__()\n",
    "        # each token directly reads off the logits for the next token from a lookup table\n",
    "        self.token_embedding_table = nn.Embedding(modelSpecs.VOCAB_SIZE, modelSpecs.N_EMBD)\n",
    "        self.position_embedding_table = nn.Embedding(modelSpecs.BLOCK_SIZE, modelSpecs.N_EMBD)\n",
    "        self.blocks = nn.Sequential(*[Block(modelSpecs) for _ in range(modelSpecs.N_LAYER)])\n",
    "        self.ln_f = nn.LayerNorm(modelSpecs.N_EMBD) # final layer norm\n",
    "        self.lm_head = nn.Linear(modelSpecs.N_EMBD, modelSpecs.VOCAB_SIZE)\n",
    "\n",
    "        # better init, not covered in the original GPT video, but important, will cover in followup video\n",
    "        self.apply(self._init_weights)\n",
    "\n",
    "    def _init_weights(self, module):\n",
    "        if isinstance(module, nn.Linear):\n",
    "            torch.nn.init.normal_(module.weight, mean=0.0, std=0.02)\n",
    "            if module.bias is not None:\n",
    "                torch.nn.init.zeros_(module.bias)\n",
    "        elif isinstance(module, nn.Embedding):\n",
    "            torch.nn.init.normal_(module.weight, mean=0.0, std=0.02)\n",
    "\n",
    "    def forward(self, idx, targets=None):\n",
    "        B, T = idx.shape\n",
    "\n",
    "        # idx and targets are both (B,T) tensor of integers\n",
    "        tok_emb = self.token_embedding_table(idx) # (B,T,C)\n",
    "        pos_emb = self.position_embedding_table(torch.arange(T, device=device)) # (T,C)\n",
    "        x = tok_emb + pos_emb # (B,T,C)\n",
    "        x = self.blocks(x) # (B,T,C)\n",
    "        x = self.ln_f(x) # (B,T,C)\n",
    "        logits = self.lm_head(x) # (B,T,vocab_size)\n",
    "\n",
    "        if targets is None:\n",
    "            loss = None\n",
    "        else:\n",
    "            B, T, C = logits.shape\n",
    "            logits = logits.view(B*T, C)\n",
    "            targets = targets.view(B*T)\n",
    "            loss = F.cross_entropy(logits, targets)\n",
    "\n",
    "        return logits, loss\n",
    "\n",
    "    def generate(self, idx, max_new_tokens):\n",
    "        # idx is (B, T) array of indices in the current context\n",
    "        for _ in range(max_new_tokens):\n",
    "            # crop idx to the last block_size tokens\n",
    "            idx_cond = idx[:, -modelSpecs.BLOCK_SIZE:]\n",
    "            # get the predictions\n",
    "            logits, loss = self(idx_cond)\n",
    "            # focus only on the last time step\n",
    "            logits = logits[:, -1, :] # becomes (B, C)\n",
    "            # apply softmax to get probabilities\n",
    "            probs = F.softmax(logits, dim=-1) # (B, C)\n",
    "            # sample from the distribution\n",
    "            idx_next = torch.multinomial(probs, num_samples=1) # (B, 1)\n",
    "            # append sampled index to the running sequence\n",
    "            idx = torch.cat((idx, idx_next), dim=1) # (B, T+1)\n",
    "        return idx\n"
   ]
  },
  {
   "cell_type": "code",
   "execution_count": 12,
   "id": "8b945baa",
   "metadata": {},
   "outputs": [],
   "source": [
    "@torch.no_grad()\n",
    "def estimate_loss(model : GPTLanguageModel):\n",
    "    out = {}\n",
    "    model.eval()\n",
    "    for split in ['train', 'val']:\n",
    "        losses = torch.zeros(EVAL_ITERS)\n",
    "        for k in range(EVAL_ITERS):\n",
    "            X, Y = get_batch(split)\n",
    "            with autocast(device_type='cuda', dtype=torch.float16):\n",
    "                _, loss = model(X, Y)\n",
    "            # _, loss = model(X, Y)\n",
    "            losses[k] = loss.item()\n",
    "        out[split] = losses.mean()\n",
    "    model.train()\n",
    "    return out\n"
   ]
  },
  {
   "cell_type": "code",
   "execution_count": 13,
   "id": "ee2d519e",
   "metadata": {},
   "outputs": [
    {
     "name": "stdout",
     "output_type": "stream",
     "text": [
      "49.386577 M parameters\n"
     ]
    }
   ],
   "source": [
    "m = GPTLanguageModel()\n",
    "m = m.to(device)\n",
    "# m = torch.compile(m, mode='default') # TODO use this when ready to use linux, and ready to train a 100M model\n",
    "# m = torch.compile(m, backend='aot_eager')\n",
    "# m = torch.compile(m, mode='reduce-overhead', backend='inductor') \n",
    "# print the number of parameters in the model\n",
    "print(sum(p.numel() for p in m.parameters())/1e6, 'M parameters')\n",
    "\n",
    "# create a PyTorch optimizer\n",
    "# optimizer = torch.optim.AdamW(m.parameters(), lr=LEARNING_RATE)\n",
    "optimizer = bnb.optim.AdamW8bit(m.parameters(), lr=LEARNING_RATE)\n",
    "scaler = GradScaler()"
   ]
  },
  {
   "cell_type": "code",
   "execution_count": 14,
   "id": "54a0847f",
   "metadata": {},
   "outputs": [],
   "source": [
    "# startTime = time.time()\n",
    "# m.train()\n",
    "\n",
    "# # torch.backends.cudnn.benchmark = True\n",
    "# # torch.backends.cuda.matmul.allow_tf32 = True\n",
    "# # torch.backends.cudnn.allow_tf32 = True\n",
    "\n",
    "# # temporary line\n",
    "# MAX_ITERS = 800 // BATCH_SIZE\n",
    "# torch.cuda.empty_cache()\n",
    "# iter99Str = \"\"\n",
    "# iter99time = None\n",
    "# ACCUMILATION = 2\n",
    "# for iter in range(0, MAX_ITERS, ACCUMILATION):\n",
    "#     print(f\"iter #{iter}\")\n",
    "#     is_target_iter = (iter == ACCUMILATION)\n",
    "#     # torch.cuda.empty_cache()\n",
    "    \n",
    "#     # every once in a while evaluate the loss on train and val sets\n",
    "#     # if iter % EVAL_INTERVALS == 0 or iter == MAX_ITERS - 1:\n",
    "#     #     losses = estimate_loss(model)\n",
    "#         # print(f\"step {iter}: train loss {losses['train']:.4f}, val loss {losses['val']:.4f}, time {(time.time() - startTime)/60:.2f} minutes\")\n",
    "#         # print (f\"step {iter}:  time {(time.time() - startTime)/60:.2f} minutes\")\n",
    "    \n",
    "#     # torch.cuda.empty_cache()\n",
    "#     # sample a batch of data\n",
    "#     if is_target_iter : iter99time = time.time()\n",
    "\n",
    "#     # evaluate the loss\n",
    "#     optimizer.zero_grad(set_to_none=True)    \n",
    "\n",
    "#     for i in range(ACCUMILATION):\n",
    "#         # torch.compiler.cudagraph_mark_step_begin()\n",
    "#         with autocast(device_type='cuda', dtype=torch.float16):\n",
    "#             xb, yb = get_batch('train') \n",
    "#             logits, loss = m(xb, yb)\n",
    "#         scaler.scale(loss/ ACCUMILATION).backward()\n",
    "\n",
    "#     if is_target_iter :\n",
    "#         print(f\"forwardbackwardPass {time.time() - iter99time:.1f}s \", end=\"\")\n",
    "#         iter99time = time.time()\n",
    "#     scaler.step(optimizer)\n",
    "#     if is_target_iter :\n",
    "#         print(f\"backwardPassStep {time.time() - iter99time:.1f}s \", end=\"\")\n",
    "#         iter99time = time.time()\n",
    "\n",
    "#     scaler.update()\n",
    "\n",
    "#     if is_target_iter :\n",
    "#         print(f\"backwardPassUpdate {time.time() - iter99time:.1f}s\")\n",
    "#         iter99time = time.time()\n",
    "\n",
    "\n",
    "# print(f\"{torch.cuda.memory_allocated() / 1e6:.1f}MB {torch.cuda.max_memory_allocated() / 1e6:.1f}MB(peak) allocated, {torch.cuda.memory_reserved() / 1e6:.1f}MB reserved\")\n",
    "\n",
    "\n",
    "# endTime = time.time()\n",
    "# print(f\"Total Training Time : {(endTime - startTime)/60:.2f} minutes\")\n",
    "\n",
    "# torch.cuda.empty_cache()"
   ]
  },
  {
   "cell_type": "code",
   "execution_count": 15,
   "id": "cba1d889",
   "metadata": {},
   "outputs": [],
   "source": [
    "# # import torch\n",
    "# # from torch.cuda.amp import autocast, GradScaler\n",
    "# # from livelossplot import PlotLosses\n",
    "# # import time\n",
    "\n",
    "# # ---------------------- CONFIG ----------------------\n",
    "# ITERS = 100\n",
    "# ACCUMULATION_STEPS = 2\n",
    "# EVAL_INTERVALS = 20\n",
    "# TRAIN_TEST_SPLIT = 0.9\n",
    "# liveloss = PlotLosses()\n",
    "# scaler = GradScaler()\n",
    "\n",
    "# # ---------------------- TRAINING ----------------------\n",
    "# startTime = time.time()\n",
    "# step = BATCH_SIZE * modelSpecs.BLOCK_SIZE * ITERS * 8\n",
    "\n",
    "# for story_start in range(989_593_600, len(stories), step):\n",
    "#     print(f\"\\n=== OUTER ITER: {story_start // step} | STRING INDEX: {story_start} ===\")\n",
    "#     text = stories[story_start : story_start + step]\n",
    "#     data = torch.tensor(tokenizer.encode(text), dtype=torch.long)\n",
    "#     n = int(TRAIN_TEST_SPLIT * len(data))\n",
    "#     print(f\"Tokens: {len(data)/1e6:.2f}M\")\n",
    "\n",
    "#     train_data, val_data = data[:n], data[n:]\n",
    "#     del data\n",
    "#     torch.cuda.empty_cache()\n",
    "\n",
    "#     m.train()\n",
    "#     MAX_ITERS = ITERS // ACCUMULATION_STEPS\n",
    "\n",
    "#     for iter in range(MAX_ITERS):\n",
    "#         iter_start = time.time()\n",
    "#         is_profile_iter = (iter == ACCUMULATION_STEPS)  # for timing breakdown\n",
    "        \n",
    "#         optimizer.zero_grad(set_to_none=True)\n",
    "\n",
    "#         # ---------------------- ACCUMULATED GRADIENTS ----------------------\n",
    "#         for acc_step in range(ACCUMULATION_STEPS):\n",
    "#             with autocast(device_type='cuda', dtype=torch.float16):\n",
    "#                 xb, yb = get_batch('train')\n",
    "#                 logits, loss = m(xb, yb)\n",
    "#                 scaled_loss = loss / ACCUMULATION_STEPS\n",
    "#             scaler.scale(scaled_loss).backward()\n",
    "\n",
    "#         # ---------------------- OPTIMIZER STEP ----------------------\n",
    "#         if is_profile_iter: t1 = time.time()\n",
    "#         scaler.step(optimizer)\n",
    "#         if is_profile_iter: \n",
    "#             print(f\"Forward+Backward: {t1 - iter_start:.1f}s\", end=\" \")\n",
    "#             t2 = time.time()\n",
    "#         scaler.update()\n",
    "#         if is_profile_iter:\n",
    "#             print(f\"Step: {t2 - t1:.1f}s Update: {time.time() - t2:.1f}s\")\n",
    "\n",
    "#         # ---------------------- EVAL + LOGGING ----------------------\n",
    "#         if iter % EVAL_INTERVALS == 0 or iter == MAX_ITERS - 1:\n",
    "#             torch.cuda.empty_cache()\n",
    "#             losses = estimate_loss(m)\n",
    "#             liveloss.update({'loss': losses['train'], 'val_loss': losses['val']})\n",
    "#             liveloss.send()\n",
    "#             elapsed = int((time.time() - startTime)//60)\n",
    "#             print(f\"\\n[Eval] Iter {iter}/{MAX_ITERS} | Train: {losses['train']:.4f} | Val: {losses['val']:.4f} | Time: {elapsed} min\")\n",
    "#             torch.cuda.empty_cache()\n",
    "\n",
    "#     print(f\"Outer Loop {story_start // step} done. Total Time: {(time.time() - startTime)/60:.2f} min\\n\")\n",
    "\n",
    "# torch.cuda.empty_cache()\n",
    "# print(f\"Training Completed in {(time.time() - startTime)/60:.2f} minutes.\")\n",
    "# print(f\"Memory: {torch.cuda.memory_allocated()/1e6:.1f}MB used, {torch.cuda.max_memory_allocated()/1e6:.1f}MB peak, {torch.cuda.memory_reserved()/1e6:.1f}MB reserved.\")\n"
   ]
  },
  {
   "cell_type": "code",
   "execution_count": null,
   "id": "362985cf",
   "metadata": {},
   "outputs": [
    {
     "data": {
      "image/png": "[encoded data removed]",
      "text/plain": [
       "<Figure size 1200x800 with 2 Axes>"
      ]
     },
     "metadata": {},
     "output_type": "display_data"
    },
    {
     "name": "stdout",
     "output_type": "stream",
     "text": [
      "Loss\n",
      "\ttraining         \t (min:    5.523, max:   10.241, cur:    5.523)\n",
      "\tvalidation       \t (min:    5.466, max:   10.259, cur:    5.466)\n",
      "[Eval] Iter 0/2000 | Train: 5.5230 | Val: 5.4663 | Time: 127.0 min\n",
      "Training Progress:   0%|                             | 1/581 [01:16<8:54:06, 55.25s/it, slice=2/581]"
     ]
    }
   ],
   "source": [
    "# import torch\n",
    "# from torch.cuda.amp import autocast, GradScaler\n",
    "# from livelossplot import PlotLosses\n",
    "from tqdm import tqdm\n",
    "# import time\n",
    "import sys\n",
    "\n",
    "# ---------------------- CONFIG ----------------------\n",
    "ITERS = 100\n",
    "ACCUMULATION_STEPS = 2\n",
    "EVAL_INTERVALS = 100\n",
    "TRAIN_TEST_SPLIT = 0.9\n",
    "liveloss = PlotLosses()\n",
    "scaler = GradScaler()\n",
    "\n",
    "# ---------------------- TRAINING ----------------------\n",
    "startTime = time.time()\n",
    "step = BATCH_SIZE * modelSpecs.BLOCK_SIZE * ITERS * 8\n",
    "outer_starts = list(range(0, len(stories), step))\n",
    "num_outer_loops = len(outer_starts)\n",
    "\n",
    "# tqdm progress bar for dataset coverage\n",
    "pbar = tqdm(total=num_outer_loops, desc=\"Training Progress\", ncols=100, file=sys.stdout)\n",
    "\n",
    "for outer_idx, story_start in enumerate(outer_starts):\n",
    "    pbar.set_postfix({\"slice\": f\"{outer_idx+1}/{num_outer_loops}\"})\n",
    "\n",
    "    # Move tqdm bar before printing any normal logs\n",
    "    pbar.refresh()\n",
    "    print(f\"\\n=== OUTER ITER: {outer_idx+1}/{num_outer_loops} | STRING INDEX: {story_start} ===\")\n",
    "\n",
    "    text = stories[story_start : story_start + step]\n",
    "    data = torch.tensor(tokenizer.encode(text), dtype=torch.long)\n",
    "    n = int(TRAIN_TEST_SPLIT * len(data))\n",
    "    print(f\"Tokens: {len(data)/1e6:.2f}M\")\n",
    "\n",
    "    train_data, val_data = data[:n], data[n:]\n",
    "    del data\n",
    "    torch.cuda.empty_cache()\n",
    "\n",
    "    m.train()\n",
    "\n",
    "    for iter in range(0, ITERS, ACCUMULATION_STEPS):\n",
    "\n",
    "        optimizer.zero_grad(set_to_none=True)\n",
    "\n",
    "        # ----------- ACCUMULATED GRADIENTS -----------\n",
    "        for _ in range(ACCUMULATION_STEPS):\n",
    "            with autocast(device_type='cuda', dtype=torch.float16):\n",
    "                xb, yb = get_batch('train')\n",
    "                logits, loss = m(xb, yb)\n",
    "                scaler.scale(loss / ACCUMULATION_STEPS).backward()\n",
    "\n",
    "        # ----------- OPTIMIZER STEP -----------\n",
    "        scaler.step(optimizer)\n",
    "        scaler.update()\n",
    "        # ----------- PERIODIC EVAL + LOGGING -----------\n",
    "        if iter % EVAL_INTERVALS == 0 or iter == MAX_ITERS - 1:\n",
    "            # torch.cuda.empty_cache()\n",
    "            losses = estimate_loss(m)\n",
    "            liveloss.update({'loss': losses['train'], 'val_loss': losses['val']})\n",
    "            liveloss.send()\n",
    "            elapsed = (time.time() - startTime)/60//0.01\n",
    "            print(f\"[Eval] Iter {iter}/{MAX_ITERS} | Train: {losses['train']:.4f} | Val: {losses['val']:.4f} | Time: {elapsed} min\")\n",
    "            pbar.refresh()\n",
    "\n",
    "    pbar.update(1)\n",
    "    pbar.refresh()  # ensures the bar stays visible\n",
    "    outer_elapsed = (time.time() - startTime)/60\n",
    "\n",
    "pbar.close()\n",
    "torch.cuda.empty_cache()\n",
    "total_time = (time.time() - startTime)/60\n",
    "\n",
    "print(f\"\\n✅ Training Completed in {total_time:.2f} minutes.\")\n",
    "print(f\"Memory: {torch.cuda.memory_allocated()/1e6:.1f}MB used, \"\n",
    "      f\"{torch.cuda.max_memory_allocated()/1e6:.1f}MB peak, \"\n",
    "      f\"{torch.cuda.memory_reserved()/1e6:.1f}MB reserved.\")\n"
   ]
  },
  {
   "cell_type": "code",
   "execution_count": null,
   "id": "2c7d7374",
   "metadata": {},
   "outputs": [],
   "source": [
    "# ITERS = 100\n",
    "# startTime = time.time()\n",
    "# step = BATCH_SIZE * modelSpecs.BLOCK_SIZE * ITERS * 8\n",
    "# liveloss = PlotLosses()\n",
    "\n",
    "# MAX_ITERS = 800 // BATCH_SIZE\n",
    "# ACCUMILATION = 2\n",
    "\n",
    "# # for i in range(step * 0, len(stories), step):\n",
    "# for i in range(0, len(stories), step):\n",
    "#     torch.cuda.empty_cache()\n",
    "#     print(\"ITER:\", i // step, \"::::\", \" STRING INDEX:\", i)\n",
    "#     text = stories[i : i + step]\n",
    "#     data = torch.tensor(tokenizer.encode(text))\n",
    "#     n = int(TRAIN_TEST_SPLIT * len(data))\n",
    "#     print(\"tokens\", len(data)/10**6,\"M\")\n",
    "#     train_data = data[:n]\n",
    "#     val_data = data[n:]\n",
    "\n",
    "\n",
    "\n",
    "\n",
    "\n",
    "#     for iter in range(ITERS):\n",
    "#         print(f\"iter #{iter}\")\n",
    "        \n",
    "#         # every once in a while evaluate the loss on train and val sets\n",
    "#         if iter % EVAL_INTERVALS == 0 or iter == ITERS - 1:\n",
    "#             losses = estimate_loss(m)\n",
    "#             liveloss.update({ 'loss': losses['train'], 'val_loss': losses['val']})\n",
    "#             liveloss.send()\n",
    "#             print(\"ITER:\", i // step, \"::::\", \" STRING INDEX:\", i)\n",
    "#             print(\"tokens\", len(data)/10**6,\"M\")\n",
    "#             print(f\"step {iter}: train loss {losses['train']:.4f}, val loss {losses['val']:.4f}, time {int((time.time() - startTime)//60)} minutes\")\n",
    "\n",
    "#         # sample a batch of data\n",
    "#         xb, yb = get_batch('train')\n",
    "\n",
    "#         # evaluate the loss\n",
    "#         logits, loss = m(xb, yb)\n",
    "#         optimizer.zero_grad(set_to_none=True)\n",
    "#         loss.backward()\n",
    "#         optimizer.step()\n",
    "\n",
    "#     endTime = time.time()\n",
    "#     print(f\"Total Training Time : {int((endTime - startTime)//60)} minutes\")"
   ]
  },
  {
   "cell_type": "code",
   "execution_count": null,
   "id": "9024eebe",
   "metadata": {},
   "outputs": [],
   "source": [
    "# 100M BATCH 8 BLOCK 512 16.77min 56.86days-for-2B-tokens\n",
    "# 100M BATCH 8 BLOCK 512 11.82min 40.07days-for-2B-tokens 1654MB 7756MB (peak) allocated 8512MB reserved\n",
    "\n",
    "# 22.2s\n",
    "#10.2s"
   ]
  },
  {
   "cell_type": "code",
   "execution_count": null,
   "id": "78e628cf",
   "metadata": {},
   "outputs": [
    {
     "name": "stdout",
     "output_type": "stream",
     "text": [
      "True\n",
      "True\n",
      "True\n"
     ]
    }
   ],
   "source": [
    "print(torch.backends.cuda.flash_sdp_enabled())       # should be True\n",
    "print(torch.backends.cuda.mem_efficient_sdp_enabled()) # True\n",
    "print(torch.backends.cuda.math_sdp_enabled())          # True"
   ]
  },
  {
   "cell_type": "code",
   "execution_count": null,
   "id": "bbb9ccda",
   "metadata": {},
   "outputs": [],
   "source": [
    "# WGQA-8 16 head 16 layer - perplexity implimentation (95M param)\n",
    "# 1412.382208 MB allocated\n",
    "# 8919.369216 MB peak allocated\n",
    "# 9753.853952 MB reserved\n",
    "# Total Training Time : 12.06 minutes\n",
    "\n",
    "# WGQA-8 16 head 18 layer - perplexity implimentation (95M param)\n",
    "# 1412.382208 MB allocated\n",
    "# 8919.369216 MB peak allocated\n",
    "# 9753.853952 MB reserved\n",
    "# Total Training Time : 12.06 minutes\n",
    "\n",
    "# WGQA-8 16 head 18 layer - perplexity implimentation (103M param)\n",
    "# 1470.321152 MB allocated\n",
    "# 10227.390976 MB peak allocated\n",
    "# 10525.605888 MB reserved\n",
    "# Total Training Time : 15.58 minutes\n",
    "\n",
    "# MLA 16 head 8 layer - 103M param (76M param)\n",
    "# 1696.742912 MB allocated\n",
    "# 6963.769856 MB peak allocated\n",
    "# 7746.879488 MB reserved\n",
    "# Total Training Time : 4.31 minutes\n",
    "\n"
   ]
  },
  {
   "cell_type": "code",
   "execution_count": null,
   "id": "91b6ad8d",
   "metadata": {},
   "outputs": [],
   "source": [
    "# MHA 516Embed 12Heads 16Layers :aot_eager \n",
    "# 1702.7MB 7804.9MB(peak) allocated 8638.1MB reserved\n",
    "# Total Training Time : 13.01 minutes\n",
    "\n",
    "# MHA 516Embed 12Heads 16Layers :default \n",
    "# 1695.1MB 5558.3MB(peak) allocated, 5893.0MB reserved\n",
    "# Total Training Time : 16.79 minutes\n",
    "\n",
    "# MHA 516Embed 12Heads 16Layers :reduce-overhead:inductor \n",
    "# forwardPass 0.0s backwardPassScale 0.0s backwardPassStep 6.2s backwardPassUpdate 0.0s\n",
    "# 832.5MB 5885.0MB(peak) allocated, 6341.8MB reserved\n",
    "# Total Training Time : 15.12 minutes\n",
    "\n",
    "# MHA 516Embed 12Heads 16Layers :gradient-accumilation\n",
    "# BATCH 16 ITER 100 ACCUMILATION 1 : ~16min\n",
    "# BATCH 16 ITER 100 ACCUMILATION 2 : OOM Error\n",
    "# BATCH 08 ITER 200 ACCUMILATION 2 : 6.54min 1423.5MB 5743.7MB(peak) allocated, 6157.2MB reserved\n",
    "# BATCH 08 ITER 200 ACCUMILATION 4 : 6.89min 1423.5MB 5743.7MB(peak) allocated, 6157.2MB reserved\n",
    "# BATCH 08 ITER 200 ACCUMILATION 8 : ~7min forwardbackwardPass 16.8s backwardPassStep 0.3s backwardPassUpdate 0.0s\n",
    "\n",
    "# iter #99\n",
    "# 802.5MB 5817.1MB(peak) allocated, 6178.2MB reserved\n",
    "# Total Training Time : 9.90 minutes\n",
    "\n",
    "# MHA 512Embed 12Heads 16Layers :gradient-accumilation :\n",
    "# no-sqda 5.27min forwardbackwardPass 2.8s backwardPassStep 0.1s backwardPassUpdate 0.0s 1448.4MB 4803.8MB(peak) allocated, 5207.2MB reserved\n",
    "# sqda 6.19 minutes 1448.4MB 4845.2MB(peak) allocated, 5677.0MB reserved] \n",
    "\n",
    "# 1345.5MB 3120.2MB(peak) allocated, 3741.3MB reserved\n",
    "# Total Training Time : 6.47 minutes\n",
    "\n",
    "# Batch size 2 accumilation 2 mla block size 512 embed 516\n",
    "# 1306.3MB 3028.1MB(peak) allocated, 3231.7MB reserved\n",
    "# Total Training Time : 1.24 minutes\n",
    "\n",
    "\n",
    "# MLA batch 4 accumilation 2 mla block size 512 embed 516\n",
    "# forwardbackwardPass 2.0s backwardPassStep 0.1s backwardPassUpdate 0.0s\n",
    "# BATCH_SIZE = 4\n",
    "\n",
    "# MLA batch 2 accumlation mla block size 512 embed 516\n",
    "# forwardbackwardPass 0.7s backwardPassStep 0.1s backwardPassUpdate 0.0s\n",
    "# 1301.0MB 3025.9MB(peak) allocated, 3439.3MB reserved\n",
    "# Total Training Time : 1.12 minutes\n",
    "\n",
    "# MLA batch 1 accumlation 8 mla block size 512 embed 516\n",
    "# forwardbackwardPass 1.0s backwardPassStep 0.1s backwardPassUpdate 0.0s\n",
    "# 1159.5MB 2099.8MB(peak) allocated, 2300.6MB reserved\n",
    "# Total Training Time : 1.62 minutes\n",
    "\n",
    "# MLA batch 1 accumlation 4 mla block size 512 embed 516\n",
    "# forwardbackwardPass 0.5s backwardPassStep 0.1s backwardPassUpdate 0.0s\n",
    "# 1159.2MB 2094.4MB(peak) allocated, 2300.6MB reserved\n",
    "# Total Training Time : 1.69 minutes"
   ]
  },
  {
   "cell_type": "code",
   "execution_count": null,
   "id": "a2434cee",
   "metadata": {},
   "outputs": [
    {
     "name": "stdout",
     "output_type": "stream",
     "text": [
      "who is the fastest!\" Anna says.\n",
      "\n",
      "They nod. They say, \" arc! winning is to vanish! One way is where you are and where you are going.\"\n",
      "\n",
      "The sun starts to dry. Anna and Ben are sad. They want to see the prettiest thing. They look for looks.\n",
      "\n",
      "They see\n"
     ]
    }
   ],
   "source": [
    "# input_tokens = torch.tensor(tokenizer.encode(\"there was once a forest with 100s of bushes\")).unsqueeze(0).cuda()\n",
    "input_tokens = torch.tensor(tokenizer.encode('who is the fastest')).unsqueeze(0).cuda()\n",
    "# print(input_tokens)\n",
    "\n",
    "m.eval()\n",
    "\n",
    "output_tokens = m.generate(input_tokens, max_new_tokens=64)[0]\n",
    "# print(output_tokens)\n",
    "\n",
    "m.train()\n",
    "\n",
    "output : str = tokenizer.decode(output_tokens)\n",
    "\n",
    "\n",
    "print(output)"
   ]
  },
  {
   "cell_type": "code",
   "execution_count": null,
   "id": "ae3aaf47",
   "metadata": {},
   "outputs": [
    {
     "name": "stdout",
     "output_type": "stream",
     "text": [
      "1902\n"
     ]
    }
   ],
   "source": [
    "print(int(len(stories)//(10**6 )))"
   ]
  },
  {
   "cell_type": "code",
   "execution_count": null,
   "id": "4b75341a",
   "metadata": {},
   "outputs": [],
   "source": [
    "# ITERS = 100\n",
    "# startTime = time.time()\n",
    "# step = BATCH_SIZE * modelSpecs.BLOCK_SIZE * ITERS * 8\n",
    "# liveloss = PlotLosses()\n",
    "\n",
    "# # for i in range(step * 0, len(stories), step):\n",
    "# for i in range(989593600, len(stories), step):\n",
    "#     print(\"ITER:\", i // step, \"::::\", \" STRING INDEX:\", i)\n",
    "#     text = stories[i : i + step]\n",
    "#     data = torch.tensor(tokenizer.encode(text))\n",
    "#     n = int(TRAIN_TEST_SPLIT * len(data))\n",
    "#     print(\"tokens\", len(data)/10**6,\"M\")\n",
    "\n",
    "#     train_data = data[:n]\n",
    "#     val_data = data[n:]\n",
    "\n",
    "\n",
    "\n",
    "\n",
    "\n",
    "#     for iter in range(ITERS):\n",
    "#         print(f\"iter #{iter}\")\n",
    "#         torch.cuda.empty_cache()\n",
    "#         # every once in a while evaluate the loss on train and val sets\n",
    "#         if iter % EVAL_INTERVALS == 0 or iter == ITERS - 1:\n",
    "#             losses = estimate_loss(m)\n",
    "#             liveloss.update({ 'loss': losses['train'], 'val_loss': losses['val']})\n",
    "#             liveloss.send()\n",
    "#             print(\"ITER:\", i // step, \"::::\", \" STRING INDEX:\", i)\n",
    "#             print(\"tokens\", len(data)/10**6,\"M\")\n",
    "#             print(f\"step {iter}: train loss {losses['train']:.4f}, val loss {losses['val']:.4f}, time {int((time.time() - startTime)//60)} minutes\")\n",
    "            \n",
    "#         torch.cuda.empty_cache()\n",
    "#         # sample a batch of data\n",
    "#         xb, yb = get_batch('train')\n",
    "\n",
    "#         # evaluate the loss\n",
    "#         logits, loss = m(xb, yb)\n",
    "#         optimizer.zero_grad(set_to_none=True)\n",
    "#         loss.backward()\n",
    "#         optimizer.step()\n",
    "\n",
    "#     endTime = time.time()\n",
    "#     print(f\"Total Training Time : {int((endTime - startTime)//60)} minutes\")"
   ]
  },
  {
   "cell_type": "code",
   "execution_count": null,
   "id": "7e4da161",
   "metadata": {},
   "outputs": [
    {
     "data": {
      "text/plain": [
       "(989, 593, 600)"
      ]
     },
     "execution_count": 25,
     "metadata": {},
     "output_type": "execute_result"
    }
   ],
   "source": [
    "655,360,000\n",
    "989,593,600"
   ]
  },
  {
   "cell_type": "code",
   "execution_count": null,
   "id": "1ad3ef02",
   "metadata": {},
   "outputs": [
    {
     "name": "stdout",
     "output_type": "stream",
     "text": [
      "                                                                                                     \n"
     ]
    }
   ],
   "source": [
    "input_tokens = torch.tensor(tokenizer.encode(\" \")).unsqueeze(0).cuda()\n",
    "# print(input_tokens)\n",
    "\n",
    "\n",
    "output_tokens = m.generate(input_tokens, max_new_tokens=100)[0]\n",
    "# print(output_tokens)\n",
    "\n",
    "output : str = tokenizer.decode(output_tokens)\n",
    "\n",
    "\n",
    "\n",
    "print(output)\n"
   ]
  },
  {
   "cell_type": "code",
   "execution_count": null,
   "id": "f10c6e5d",
   "metadata": {},
   "outputs": [],
   "source": [
    "\n",
    "def convert_optimizer_state_to_float32(optimizer : torch.optim.AdamW):\n",
    "    for state in optimizer.state.values():\n",
    "        for k, v in state.items():\n",
    "            if isinstance(v, torch.Tensor) and v.dtype == torch.float64:\n",
    "                state[k] = v.float()\n",
    "\n",
    "\n",
    "# Saving the model\n",
    "def save_model(model : nn.Module, optimizer : torch.optim.AdamW, filepath):\n",
    "    checkpoint = {\n",
    "        'model_state_dict': model.state_dict(),\n",
    "        'optimizer_state_dict': optimizer.state_dict(),\n",
    "    }\n",
    "    torch.save(checkpoint, filepath)\n",
    "    print(f\"Model saved to {filepath}\")\n",
    "\n",
    "# Loading the model\n",
    "def load_model(model : nn.Module, optimizer : torch.optim.AdamW, filepath, device):\n",
    "    checkpoint = torch.load(filepath, map_location=device)\n",
    "    model.load_state_dict(checkpoint['model_state_dict'])\n",
    "    optimizer.load_state_dict(checkpoint['optimizer_state_dict'])\n",
    "    convert_optimizer_state_to_float32(optimizer)\n",
    "\n",
    "    print(f\"Model loaded from {filepath}\")\n",
    "    model.to(device)\n",
    "    return model, optimizer\n",
    "\n",
    "\n",
    "\n"
   ]
  },
  {
   "cell_type": "code",
   "execution_count": null,
   "id": "90a86e7f",
   "metadata": {},
   "outputs": [],
   "source": [
    "# # Save after training\n",
    "# save_model(m, optimizer, 'weights/gpt_model_50M.pth') # TODO improve this naming convention\n",
    "\n",
    "# # Later or for inference\n",
    "# # model = GPTLanguageModel()\n",
    "# # optimizer = torch.optim.AdamW(model.parameters(), lr=LEARNING_RATE)\n",
    "# # model, optimizer = load_model(model, optimizer, 'gpt_model_checkpoint.pth', device)\n"
   ]
  },
  {
   "cell_type": "code",
   "execution_count": null,
   "id": "35cdc81f",
   "metadata": {},
   "outputs": [],
   "source": [
    "# pre_model = GPTLanguageModel()\n",
    "# pre_optimizer = torch.optim.AdamW(pre_model.parameters(), lr=LEARNING_RATE)\n",
    "\n",
    "# loaded_model, loaded_optimizer = load_model(pre_model, pre_optimizer, './weights/gpt_model_50M.pth', device)\n"
   ]
  },
  {
   "cell_type": "code",
   "execution_count": null,
   "id": "4a520c0c",
   "metadata": {},
   "outputs": [],
   "source": [
    "# loaded_model = loaded_model.cuda()"
   ]
  },
  {
   "cell_type": "code",
   "execution_count": null,
   "id": "9deab6f8",
   "metadata": {},
   "outputs": [],
   "source": [
    "# ITERS = 100\n",
    "# startTime = time.time()\n",
    "# step = BATCH_SIZE * modelSpecs.BLOCK_SIZE * ITERS * 8\n",
    "# liveloss = PlotLosses()\n",
    "\n",
    "# # for i in range(step * 0, len(stories), step):\n",
    "# for i in range(989593600, len(stories), step):\n",
    "#     print(\"ITER:\", i // step, \"::::\", \" STRING INDEX:\", i)\n",
    "#     text = stories[i : i + step]\n",
    "#     data = torch.tensor(tokenizer.encode(text))\n",
    "#     n = int(TRAIN_TEST_SPLIT * len(data))\n",
    "#     print(\"tokens\", len(data)/10**6,\"M\")\n",
    "\n",
    "#     train_data = data[:n]\n",
    "#     val_data = data[n:]\n",
    "\n",
    "\n",
    "\n",
    "\n",
    "\n",
    "#     for iter in range(ITERS):\n",
    "#         print(f\"iter #{iter}\")\n",
    "#         torch.cuda.empty_cache()\n",
    "#         # every once in a while evaluate the loss on train and val sets\n",
    "#         if iter % EVAL_INTERVALS == 0 or iter == ITERS - 1:\n",
    "#             losses = estimate_loss(loaded_model)\n",
    "#             liveloss.update({ 'loss': losses['train'], 'val_loss': losses['val']})\n",
    "#             liveloss.send()\n",
    "#             print(\"ITER:\", i // step, \"::::\", \" STRING INDEX:\", i)\n",
    "#             print(\"tokens\", len(data)/10**6,\"M\")\n",
    "#             print(f\"step {iter}: train loss {losses['train']:.4f}, val loss {losses['val']:.4f}, time {int((time.time() - startTime)//60)} minutes\")\n",
    "#         torch.cuda.empty_cache()\n",
    "#         # sample a batch of data\n",
    "#         xb, yb = get_batch('train')\n",
    "\n",
    "#         # evaluate the loss\n",
    "        \n",
    "#         logits, loss = loaded_model(xb, yb)\n",
    "#         loaded_optimizer.zero_grad(set_to_none=True)\n",
    "#         loss.backward()\n",
    "#         loaded_optimizer.step()\n",
    "\n",
    "#     endTime = time.time()\n",
    "#     print(f\"Total Training Time : {int((endTime - startTime)//60)} minutes\")"
   ]
  },
  {
   "cell_type": "code",
   "execution_count": null,
   "id": "ccbba3b6",
   "metadata": {},
   "outputs": [],
   "source": [
    "# input_tokens = torch.tensor(tokenizer.encode(\" \")).unsqueeze(0).cuda()\n",
    "# # print(input_tokens)\n",
    "\n",
    "\n",
    "# output_tokens = loaded_model.generate(input_tokens, max_new_tokens=100)[0]\n",
    "# # print(output_tokens)\n",
    "\n",
    "# output : str = tokenizer.decode(output_tokens)\n",
    "\n",
    "\n",
    "\n",
    "# print(output)\n"
   ]
  }
 ],
 "metadata": {
  "kernelspec": {
   "display_name": "Python 3",
   "language": "python",
   "name": "python3"
  },
  "language_info": {
   "codemirror_mode": {
    "name": "ipython",
    "version": 3
   },
   "file_extension": ".py",
   "mimetype": "text/x-python",
   "name": "python",
   "nbconvert_exporter": "python",
   "pygments_lexer": "ipython3",
   "version": "3.12.2"
  }
 },
 "nbformat": 4,
 "nbformat_minor": 5
}
